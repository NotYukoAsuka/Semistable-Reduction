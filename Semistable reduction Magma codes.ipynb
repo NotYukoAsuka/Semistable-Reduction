{
 "cells": [
  {
   "cell_type": "code",
   "execution_count": 4,
   "id": "53428d0d",
   "metadata": {},
   "outputs": [
    {
     "name": "stdout",
     "output_type": "stream",
     "text": [
      "x^5 - 2*x^4 - 129*x^3 + 130*x^2 + 3905*x\n"
     ]
    }
   ],
   "source": [
    "// Setting up K = Q(sqrt(5)) and all the constants.\n",
    "// We do not need to work over Q_2 for these computations since all the constants are integral.\n",
    "// alphaijk = alpha_{i,j}^{(k)}.\n",
    "K<z> := QuadraticField(5);\n",
    "phi := (1+z)/2;\n",
    "phibar := (1-z)/2;\n",
    "Kx<x> := PolynomialRing(K);\n",
    "x*(x-(phi - 2^3))*(x-(phi + 2^3))*(x-(phibar - 2^3))*(x-(phibar + 2^3));\n",
    "beta1 := phi- 2^3;\n",
    "beta2 := phibar - 2^3;\n",
    "beta11 := phi - 2^3;\n",
    "beta12 := phi + 2^3;\n",
    "beta21 := phibar - 2^3;\n",
    "beta22 := phibar + 2^3;\n",
    "gamma := 0;\n",
    "gamma1 := -beta1;\n",
    "gamma2 := -beta2;\n",
    "alpha111 := beta11 - beta1;\n",
    "alpha112 := beta11 - beta2;\n",
    "alpha121 := beta12 - beta1;\n",
    "alpha122 := beta12 - beta2;\n",
    "alpha211 := beta21 - beta1;\n",
    "alpha212 := beta21 - beta2;\n",
    "alpha221 := beta22 - beta1;\n",
    "alpha222 := beta22 - beta2;\n",
    "alpha11 := 0;\n",
    "alpha22 := 0;\n",
    "alpha12 := beta1 - beta2;\n",
    "alpha21 := beta2 - beta1;"
   ]
  },
  {
   "cell_type": "code",
   "execution_count": 7,
   "id": "5c15f772",
   "metadata": {},
   "outputs": [
    {
     "name": "stdout",
     "output_type": "stream",
     "text": []
    }
   ],
   "source": [
    "// Creating the extension L/K.\n",
    "f := x^2+(alpha111 + alpha121 + gamma1);\n",
    "L0 := ExtensionField<K, x | f>;\n",
    "L0y<y> := PolynomialRing(L0);\n",
    "g := y^2+(alpha212 + alpha222 + gamma2);\n",
    "L := ExtensionField<L0, y | g>;\n",
    "OL := Integers(L);"
   ]
  },
  {
   "cell_type": "code",
   "execution_count": 9,
   "id": "846f3251",
   "metadata": {},
   "outputs": [
    {
     "name": "stdout",
     "output_type": "stream",
     "text": [
      "[\n",
      "<Prime Ideal of OL\n",
      "Two element generators:\n",
      "[[[2, 0], [0, 0]], [[0, 0], [0, 0]]]\n",
      "[[[3, 2], [1, -1]], [[2, 3], [1, -1]]], 4>\n",
      "]\n"
     ]
    }
   ],
   "source": [
    "Factorization(2*OL);"
   ]
  },
  {
   "cell_type": "code",
   "execution_count": 22,
   "id": "20d626b4",
   "metadata": {},
   "outputs": [
    {
     "name": "stdout",
     "output_type": "stream",
     "text": [
      "Finite field of size 2^2\n"
     ]
    }
   ],
   "source": [
    "k,f := ResidueClassField(Factorization(2*OL)[1,1]);\n",
    "k;"
   ]
  },
  {
   "cell_type": "code",
   "execution_count": 15,
   "id": "3a961a6f",
   "metadata": {},
   "outputs": [
    {
     "name": "stdout",
     "output_type": "stream",
     "text": [
      "true\n"
     ]
    }
   ],
   "source": [
    "// Gamma_{r_i}.\n",
    "flag := true;\n",
    "F := FiniteField(4);\n",
    "A<X,s,t> := AffineSpace(F,3);\n",
    "for a1,a2 in F do\n",
    "    C:=Scheme(A, [X*(t^2+a1*s*t-a2*s^2)-1,X*s]);\n",
    "    Dim := Dimension(C);\n",
    "    Red := IsReduced(C);\n",
    "    Sing := IsSingular(C);\n",
    "    if not(Dim eq 1) or not(Red) or Sing then\n",
    "        flag := false;\n",
    "        a1,a2;\n",
    "    end if;\n",
    "end for;\n",
    "flag;"
   ]
  },
  {
   "cell_type": "code",
   "execution_count": 16,
   "id": "c5032ab2",
   "metadata": {},
   "outputs": [
    {
     "name": "stdout",
     "output_type": "stream",
     "text": [
      "true\n"
     ]
    }
   ],
   "source": [
    "// Gamma_{s_i}.\n",
    "flag := true;\n",
    "F := FiniteField(4);\n",
    "A<u,v,x,r,t> := AffineSpace(F,5);\n",
    "for a1,a2,a4,a6 in F do\n",
    "    if a1 ne 0 and a2 eq 0 and a6 eq 0 then\n",
    "        C:=Scheme(A, [\n",
    "        u*(t^2+a1*t-a2)-(1 + a4*u^2+a6*u^3),\n",
    "        x-u*r^2,\n",
    "        u*r,\n",
    "        v-u*t]);\n",
    "        Dim := Dimension(C);\n",
    "        Red := IsReduced(C);\n",
    "        Sing := IsSingular(C);\n",
    "        if not(Dim eq 1) or not(Red) or Sing then\n",
    "            a1,a2,a4,a6;\n",
    "        end if;\n",
    "    end if;\n",
    "end for;\n",
    "flag;"
   ]
  },
  {
   "cell_type": "code",
   "execution_count": 19,
   "id": "06977e42",
   "metadata": {},
   "outputs": [
    {
     "name": "stdout",
     "output_type": "stream",
     "text": [
      "1\n",
      "1 0 0 0\n",
      "{@ (0, 0, 0, 0, 0) @}\n",
      "Finite field of size 2^2\n",
      "1\n",
      "1 0 1 0\n",
      "{@ (0, 0, 0, 0, 0) @}\n",
      "Finite field of size 2^2\n",
      "1\n",
      "1 0 F.1 0\n",
      "{@ (0, 0, 0, 0, 0) @}\n",
      "Finite field of size 2^2\n",
      "1\n",
      "1 0 F.1^2 0\n",
      "{@ (0, 0, 0, 0, 0) @}\n",
      "Finite field of size 2^2\n",
      "1\n",
      "F.1 0 0 0\n",
      "{@ (0, 0, 0, 0, 0) @}\n",
      "Finite field of size 2^2\n",
      "1\n",
      "F.1 0 1 0\n",
      "{@ (0, 0, 0, 0, 0) @}\n",
      "Finite field of size 2^2\n",
      "1\n",
      "F.1 0 F.1 0\n",
      "{@ (0, 0, 0, 0, 0) @}\n",
      "Finite field of size 2^2\n",
      "1\n",
      "F.1 0 F.1^2 0\n",
      "{@ (0, 0, 0, 0, 0) @}\n",
      "Finite field of size 2^2\n",
      "1\n",
      "F.1^2 0 0 0\n",
      "{@ (0, 0, 0, 0, 0) @}\n",
      "Finite field of size 2^2\n",
      "1\n",
      "F.1^2 0 1 0\n",
      "{@ (0, 0, 0, 0, 0) @}\n",
      "Finite field of size 2^2\n",
      "1\n",
      "F.1^2 0 F.1 0\n",
      "{@ (0, 0, 0, 0, 0) @}\n",
      "Finite field of size 2^2\n",
      "1\n",
      "F.1^2 0 F.1^2 0\n",
      "{@ (0, 0, 0, 0, 0) @}\n",
      "Finite field of size 2^2\n"
     ]
    }
   ],
   "source": [
    "// Gamma_{t_i}.\n",
    "F := FiniteField(4);\n",
    "A<u,v,x,r,s> := AffineSpace(F,5);\n",
    "for a1,a2,a4,a6 in F do\n",
    "    if a1 ne 0 and a2 eq 0 and a6 eq 0 then\n",
    "        C:=Scheme(A, [v*(1+a1*s-a2*s^2)-(s+a4*s^3*v^2+a6*s^4*v^3),x-r^2*(1-a1*v+a2*s*v+a4*s^2*v^2+a6*s^3*v^3),u-s*v,v*r]);\n",
    "        Red := IsReduced(C);\n",
    "        Sing := IsSingular(C);\n",
    "        if not(Red) or Sing then\n",
    "            Dimension(C);\n",
    "            a1,a2,a4,a6;\n",
    "            S := SingularSubscheme(C);\n",
    "            PointsOverSplittingField(S);\n",
    "        end if;\n",
    "    end if;\n",
    "end for;"
   ]
  },
  {
   "cell_type": "code",
   "execution_count": 36,
   "id": "1e252381",
   "metadata": {},
   "outputs": [
    {
     "name": "stdout",
     "output_type": "stream",
     "text": [
      "k.1^2\n",
      "k.1\n"
     ]
    }
   ],
   "source": [
    "f(OL!(L0.1));\n",
    "f(OL!(L.1));"
   ]
  },
  {
   "cell_type": "code",
   "execution_count": 37,
   "id": "56fab36d",
   "metadata": {},
   "outputs": [
    {
     "name": "stdout",
     "output_type": "stream",
     "text": [
      "1\n",
      "true\n",
      "true\n"
     ]
    }
   ],
   "source": [
    "// Gamma_{t_i} for i = 1.\n",
    "A<U,V,X,r,s> := AffineSpace(k,5);\n",
    "a1 := k.1^2;\n",
    "a2 := 0;\n",
    "a4 := 0;\n",
    "a6 := 0;\n",
    "C:=Scheme(A, [\n",
    "V*(1+a1*s-a2*s^2)-(s+a4*s^3*V^2+a6*s^4*V^3),\n",
    "X-r^2*(1-a1*V+a2*s*V+a4*s^2*V^2+a6*s^3*V^3),\n",
    "U-s*V,\n",
    "V*r]);\n",
    "Dimension(C);\n",
    "IsReduced(C);\n",
    "IsSingular(C);"
   ]
  },
  {
   "cell_type": "code",
   "execution_count": 38,
   "id": "4350d425",
   "metadata": {},
   "outputs": [
    {
     "name": "stdout",
     "output_type": "stream",
     "text": [
      "Scheme over GF(2^2) defined by\n",
      "U + k.1*V + k.1*s,\n",
      "V*s + k.1*V + k.1*s,\n",
      "X,\n",
      "r\n",
      "Scheme over GF(2^2) defined by\n",
      "U,\n",
      "V,\n",
      "X + r^2,\n",
      "s\n",
      "1\n",
      "true\n",
      "false\n",
      "1\n",
      "true\n",
      "false\n"
     ]
    }
   ],
   "source": [
    "Irred := IrreducibleComponents(C);\n",
    "Irred[1];\n",
    "Irred[2];\n",
    "Dimension(Irred[1]);\n",
    "IsReduced(Irred[1]);\n",
    "IsSingular(Irred[1]);\n",
    "Dimension(Irred[1]);\n",
    "IsReduced(Irred[2]);\n",
    "IsSingular(Irred[2]);"
   ]
  },
  {
   "cell_type": "code",
   "execution_count": 39,
   "id": "d314af7d",
   "metadata": {},
   "outputs": [
    {
     "name": "stdout",
     "output_type": "stream",
     "text": [
      "(0, 0, 0, 0, 0)\n",
      "true\n"
     ]
    }
   ],
   "source": [
    "S := SingularSubscheme(C);\n",
    "P := PointsOverSplittingField(S);\n",
    "P[1];\n",
    "IsNode(C,P[1]);"
   ]
  },
  {
   "cell_type": "code",
   "execution_count": 40,
   "id": "23c65851",
   "metadata": {},
   "outputs": [
    {
     "name": "stdout",
     "output_type": "stream",
     "text": [
      "1\n",
      "true\n",
      "true\n"
     ]
    }
   ],
   "source": [
    "// Gamma_{t_i} for i = 2.\n",
    "A<U,V,X,r,s> := AffineSpace(k,5);\n",
    "a1 := k.1;\n",
    "a2 := 0;\n",
    "a4 := 0;\n",
    "a6 := 0;\n",
    "C:=Scheme(A, [\n",
    "V*(1+a1*s-a2*s^2)-(s+a4*s^3*V^2+a6*s^4*V^3),\n",
    "X-r^2*(1-a1*V+a2*s*V+a4*s^2*V^2+a6*s^3*V^3),\n",
    "U-s*V,\n",
    "V*r]);\n",
    "Dimension(C);\n",
    "IsReduced(C);\n",
    "IsSingular(C);"
   ]
  },
  {
   "cell_type": "code",
   "execution_count": 41,
   "id": "770133c2",
   "metadata": {},
   "outputs": [
    {
     "name": "stdout",
     "output_type": "stream",
     "text": [
      "Scheme over GF(2^2) defined by\n",
      "U + k.1^2*V + k.1^2*s,\n",
      "V*s + k.1^2*V + k.1^2*s,\n",
      "X,\n",
      "r\n",
      "Scheme over GF(2^2) defined by\n",
      "U,\n",
      "V,\n",
      "X + r^2,\n",
      "s\n",
      "1\n",
      "true\n",
      "false\n",
      "1\n",
      "true\n",
      "false\n"
     ]
    }
   ],
   "source": [
    "Irred := IrreducibleComponents(C);\n",
    "Irred[1];\n",
    "Irred[2];\n",
    "Dimension(Irred[1]);\n",
    "IsReduced(Irred[1]);\n",
    "IsSingular(Irred[1]);\n",
    "Dimension(Irred[1]);\n",
    "IsReduced(Irred[2]);\n",
    "IsSingular(Irred[2]);"
   ]
  },
  {
   "cell_type": "code",
   "execution_count": 42,
   "id": "030a1186",
   "metadata": {},
   "outputs": [
    {
     "name": "stdout",
     "output_type": "stream",
     "text": [
      "(0, 0, 0, 0, 0)\n",
      "true\n"
     ]
    }
   ],
   "source": [
    "S := SingularSubscheme(C);\n",
    "P := PointsOverSplittingField(S);\n",
    "P[1];\n",
    "IsNode(C,P[1]);"
   ]
  },
  {
   "cell_type": "code",
   "execution_count": 45,
   "id": "ff70d2ef",
   "metadata": {},
   "outputs": [
    {
     "name": "stdout",
     "output_type": "stream",
     "text": [
      "[\n",
      "<V^2 + 4*L0.1/$.1*V + (4*$.1^3 + (4*z - 64)*$.1^2 - 1024*$.1 + (992*z - 7840))/($.1^4 + z*$.1^3), 1>\n",
      "]\n",
      "[\n",
      "<V^2 + 4*L.1/$.1*V + (4*$.1^3 + (-4*z - 64)*$.1^2 - 1024*$.1 + (-992*z - 7840))/($.1^4 + z*$.1^3), 1>\n",
      "]\n"
     ]
    }
   ],
   "source": [
    "// Showing Spec B_i is irreducible for i = 1,2.\n",
    "LL<X> := PolynomialRing(L,1);\n",
    "FF := FieldOfFractions(LL);\n",
    "x := FF!X;\n",
    "RR<V> := PolynomialRing(FF,1);\n",
    "Factorization(V^2 + (4*L0.1/x)*V + (4*x^3 + (4*z - 64)*x^2 - 1024*x + 992*z - 7840)/(x^3*(x+z)));\n",
    "Factorization(V^2 + (4*L.1/x)*V + (4*x^3 - (4*z + 64)*x^2 - 1024*x - 992*z - 7840)/(x^3*(x+z)));"
   ]
  },
  {
   "cell_type": "code",
   "execution_count": 17,
   "id": "03a4cffa",
   "metadata": {},
   "outputs": [
    {
     "name": "stdout",
     "output_type": "stream",
     "text": [
      "[\n",
      "Scheme over Multivariate rational function field of rank 2 over GF(2^2) defined by\n",
      "u + v*s,\n",
      "v^2*s^3 + $.1/$.2*v*s + 1/$.2*v + 1/$.2*s,\n",
      "x,\n",
      "r,\n",
      "Scheme over Multivariate rational function field of rank 2 over GF(2^2) defined by\n",
      "u,\n",
      "v,\n",
      "x + r^2,\n",
      "s\n",
      "]\n",
      "1\n",
      "0\n"
     ]
    }
   ],
   "source": [
    "// Computing the irreducible components of Gamma_{t_i} for generic a_1 and a_4.\n",
    "// Case a_4 is nonzero in k_L.\n",
    "F<a1,a4> := PolynomialRing(FiniteField(2^2),2);\n",
    "FF := FieldOfFractions(F);\n",
    "A<u,v,x,r,s> := AffineSpace(FF,5);\n",
    "C:=Scheme(A, [v*(1+a1*s)-(s+a4*s^3*v^2),x-r^2*(1-a1*v+a4*s^2*v^2),u-s*v,v*r]);\n",
    "Irr := IrreducibleComponents(C);\n",
    "Irr;\n",
    "Genus(Curve(Irr[1]));\n",
    "Genus(Curve(Irr[2]));"
   ]
  },
  {
   "cell_type": "code",
   "execution_count": 18,
   "id": "18cb11c4",
   "metadata": {},
   "outputs": [
    {
     "name": "stdout",
     "output_type": "stream",
     "text": [
      "[\n",
      "Scheme over Multivariate rational function field of rank 1 over GF(2^2) defined by\n",
      "u + 1/$.1*v + 1/$.1*s,\n",
      "v*s + 1/$.1*v + 1/$.1*s,\n",
      "x,\n",
      "r,\n",
      "Scheme over Multivariate rational function field of rank 1 over GF(2^2) defined by\n",
      "u,\n",
      "v,\n",
      "x + r^2,\n",
      "s\n",
      "]\n",
      "1\n",
      "0\n"
     ]
    }
   ],
   "source": [
    "// Case a_4 is zero in k_L.\n",
    "F<a1> := PolynomialRing(FiniteField(2^2),1);\n",
    "FF := FieldOfFractions(F);\n",
    "A<u,v,x,r,s> := AffineSpace(FF,5);\n",
    "C:=Scheme(A, [v*(1+a1*s)-s,x-r^2*(1-a1*v),u-s*v,v*r]);\n",
    "IrreducibleComponents(C);\n",
    "Genus(Curve(Irr[1]));\n",
    "Genus(Curve(Irr[2]));"
   ]
  }
 ],
 "metadata": {
  "kernelspec": {
   "display_name": "Magma",
   "language": "magma",
   "name": "magma"
  },
  "language_info": {
   "codemirror_mode": "magma",
   "file_extension": ".m",
   "mimetype": "text/x-magma",
   "name": "magma",
   "version": "2.26-12"
  }
 },
 "nbformat": 4,
 "nbformat_minor": 5
}
